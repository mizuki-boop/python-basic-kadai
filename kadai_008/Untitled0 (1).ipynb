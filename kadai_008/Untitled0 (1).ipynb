{
  "nbformat": 4,
  "nbformat_minor": 0,
  "metadata": {
    "colab": {
      "provenance": []
    },
    "kernelspec": {
      "name": "python3",
      "display_name": "Python 3"
    },
    "language_info": {
      "name": "python"
    }
  },
  "cells": [
    {
      "cell_type": "code",
      "source": [
        "・変数varが、3の倍数の場合は「Fizz」を出力\n",
        "・変数varが、5の倍数の場合は「Buzz」を出力\n",
        "・変数varが、3の倍数と5の倍数の両方に該当する場合は「FizzBuzz」を出力\n",
        "・上記のどの場合にも該当しない場合は、変数varの値を出力\n",
        "\n",
        "ただし、変数varは正の整数とします。\n"
      ],
      "metadata": {
        "id": "WBQ-C1Eq8Lhi"
      },
      "execution_count": null,
      "outputs": []
    },
    {
      "cell_type": "code",
      "source": [
        "import random\n",
        "var=random.randint(1, 100)\n",
        "print(var)\n",
        "\n",
        "if var % 3==0:\n",
        "    print(\"Fizz\")\n",
        "elif var % 5==0:\n",
        "    print(\"Buzz\")\n",
        "elif var % 3==0 and var % 5==0:\n",
        "    print(\"FizzBuzz\")\n",
        "else:\n",
        "    print(var)\n",
        "\n",
        "\n"
      ],
      "metadata": {
        "colab": {
          "base_uri": "https://localhost:8080/"
        },
        "id": "PROQwOXj8MkN",
        "outputId": "2f1d654f-2d16-4c2c-fdcc-2dc7c9881bd8"
      },
      "execution_count": 31,
      "outputs": [
        {
          "output_type": "stream",
          "name": "stdout",
          "text": [
            "77\n",
            "77\n"
          ]
        }
      ]
    }
  ]
}