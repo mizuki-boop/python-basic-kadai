{
  "nbformat": 4,
  "nbformat_minor": 0,
  "metadata": {
    "colab": {
      "provenance": []
    },
    "kernelspec": {
      "name": "python3",
      "display_name": "Python 3"
    },
    "language_info": {
      "name": "python"
    }
  },
  "cells": [
    {
      "cell_type": "code",
      "source": [
        "import random\n",
        "var=random.randint(1, 100)\n",
        "print(var)\n",
        "\n",
        "if var % 3==0 and var % 5==0:\n",
        "    print(\"FizzBuzz\")\n",
        "elif var % 5==0:\n",
        "    print(\"Buzz\")\n",
        "elif var % 3==0:\n",
        "    print(\"Fizz\")\n",
        "else:\n",
        "    print(var)\n",
        "\n",
        "\n"
      ],
      "metadata": {
        "colab": {
          "base_uri": "https://localhost:8080/"
        },
        "id": "PROQwOXj8MkN",
        "outputId": "7b76d80b-740d-4ea0-ea12-4e406a0880c5"
      },
      "execution_count": 12,
      "outputs": [
        {
          "output_type": "stream",
          "name": "stdout",
          "text": [
            "27\n",
            "Fizz\n"
          ]
        }
      ]
    }
  ]
}