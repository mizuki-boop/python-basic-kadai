{
  "nbformat": 4,
  "nbformat_minor": 0,
  "metadata": {
    "colab": {
      "provenance": []
    },
    "kernelspec": {
      "name": "python3",
      "display_name": "Python 3"
    },
    "language_info": {
      "name": "python"
    }
  },
  "cells": [
    {
      "cell_type": "code",
      "source": [
        "top=10\n",
        "bottom=20\n",
        "height=5\n",
        "\n",
        "size=(top+bottom)*height/2\n",
        "\n",
        "print(f\"台形の面積={size}㎡\")"
      ],
      "metadata": {
        "colab": {
          "base_uri": "https://localhost:8080/"
        },
        "id": "LovjF_jYURnE",
        "outputId": "8470c656-2e58-4c9e-e03e-d3ebd187f14e"
      },
      "execution_count": 12,
      "outputs": [
        {
          "output_type": "stream",
          "name": "stdout",
          "text": [
            "台形の面積=75.0㎡\n"
          ]
        }
      ]
    }
  ]
}