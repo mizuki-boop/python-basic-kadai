{
  "nbformat": 4,
  "nbformat_minor": 0,
  "metadata": {
    "colab": {
      "provenance": []
    },
    "kernelspec": {
      "name": "python3",
      "display_name": "Python 3"
    },
    "language_info": {
      "name": "python"
    }
  },
  "cells": [
    {
      "cell_type": "code",
      "source": [
        "top=10\n",
        "bottom=20\n",
        "height=5\n",
        "\n",
        "print(f\"台形の面積={(top+bottom)*height/2}㎡\")"
      ],
      "metadata": {
        "colab": {
          "base_uri": "https://localhost:8080/"
        },
        "id": "LovjF_jYURnE",
        "outputId": "740278f1-cc50-49b4-a435-1d4c8168566a"
      },
      "execution_count": 3,
      "outputs": [
        {
          "output_type": "stream",
          "name": "stdout",
          "text": [
            "台形の面積=75.0㎡\n"
          ]
        }
      ]
    }
  ]
}